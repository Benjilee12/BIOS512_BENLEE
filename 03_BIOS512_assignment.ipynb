{
 "cells": [
  {
   "cell_type": "markdown",
   "metadata": {},
   "source": [
    "Load the `tidyverse` and the `palmerpenguins` package."
   ]
  },
  {
   "cell_type": "code",
   "execution_count": 1,
   "metadata": {},
   "outputs": [
    {
     "name": "stderr",
     "output_type": "stream",
     "text": [
      "Warning message:\n",
      "“replacing previous import ‘vctrs::data_frame’ by ‘tibble::data_frame’ when loading ‘dplyr’”\n",
      "── \u001b[1mAttaching packages\u001b[22m ─────────────────────────────────────── tidyverse 1.3.0 ──\n",
      "\n",
      "\u001b[32m✔\u001b[39m \u001b[34mggplot2\u001b[39m 3.3.2     \u001b[32m✔\u001b[39m \u001b[34mpurrr  \u001b[39m 0.3.4\n",
      "\u001b[32m✔\u001b[39m \u001b[34mtibble \u001b[39m 3.0.3     \u001b[32m✔\u001b[39m \u001b[34mdplyr  \u001b[39m 1.0.1\n",
      "\u001b[32m✔\u001b[39m \u001b[34mtidyr  \u001b[39m 1.1.1     \u001b[32m✔\u001b[39m \u001b[34mstringr\u001b[39m 1.4.0\n",
      "\u001b[32m✔\u001b[39m \u001b[34mreadr  \u001b[39m 1.3.1     \u001b[32m✔\u001b[39m \u001b[34mforcats\u001b[39m 0.5.0\n",
      "\n",
      "Warning message:\n",
      "“package ‘ggplot2’ was built under R version 4.0.1”\n",
      "Warning message:\n",
      "“package ‘tibble’ was built under R version 4.0.2”\n",
      "Warning message:\n",
      "“package ‘tidyr’ was built under R version 4.0.2”\n",
      "Warning message:\n",
      "“package ‘dplyr’ was built under R version 4.0.2”\n",
      "── \u001b[1mConflicts\u001b[22m ────────────────────────────────────────── tidyverse_conflicts() ──\n",
      "\u001b[31m✖\u001b[39m \u001b[34mdplyr\u001b[39m::\u001b[32mfilter()\u001b[39m masks \u001b[34mstats\u001b[39m::filter()\n",
      "\u001b[31m✖\u001b[39m \u001b[34mdplyr\u001b[39m::\u001b[32mlag()\u001b[39m    masks \u001b[34mstats\u001b[39m::lag()\n",
      "\n"
     ]
    }
   ],
   "source": [
    "options(repr.plot.res = 300)\n",
    "library(tidyverse)\n",
    "library('palmerpenguins')\n",
    "\n",
    "# load your libraries in this cell\n",
    "\n"
   ]
  },
  {
   "cell_type": "markdown",
   "metadata": {},
   "source": [
    "This cell produces a table called `penguins_long` that you'll use to make the chart below."
   ]
  },
  {
   "cell_type": "code",
   "execution_count": 2,
   "metadata": {},
   "outputs": [
    {
     "data": {
      "text/html": [
       "<table>\n",
       "<caption>A tibble: 6 × 6</caption>\n",
       "<thead>\n",
       "\t<tr><th scope=col>species</th><th scope=col>island</th><th scope=col>sex</th><th scope=col>year</th><th scope=col>name</th><th scope=col>value</th></tr>\n",
       "\t<tr><th scope=col>&lt;fct&gt;</th><th scope=col>&lt;fct&gt;</th><th scope=col>&lt;fct&gt;</th><th scope=col>&lt;int&gt;</th><th scope=col>&lt;chr&gt;</th><th scope=col>&lt;dbl&gt;</th></tr>\n",
       "</thead>\n",
       "<tbody>\n",
       "\t<tr><td>Adelie</td><td>Torgersen</td><td>male  </td><td>2007</td><td>bill_length_mm   </td><td>  39.1</td></tr>\n",
       "\t<tr><td>Adelie</td><td>Torgersen</td><td>male  </td><td>2007</td><td>bill_depth_mm    </td><td>  18.7</td></tr>\n",
       "\t<tr><td>Adelie</td><td>Torgersen</td><td>male  </td><td>2007</td><td>flipper_length_mm</td><td> 181.0</td></tr>\n",
       "\t<tr><td>Adelie</td><td>Torgersen</td><td>male  </td><td>2007</td><td>body_mass_g      </td><td>3750.0</td></tr>\n",
       "\t<tr><td>Adelie</td><td>Torgersen</td><td>female</td><td>2007</td><td>bill_length_mm   </td><td>  39.5</td></tr>\n",
       "\t<tr><td>Adelie</td><td>Torgersen</td><td>female</td><td>2007</td><td>bill_depth_mm    </td><td>  17.4</td></tr>\n",
       "</tbody>\n",
       "</table>\n"
      ],
      "text/latex": [
       "A tibble: 6 × 6\n",
       "\\begin{tabular}{llllll}\n",
       " species & island & sex & year & name & value\\\\\n",
       " <fct> & <fct> & <fct> & <int> & <chr> & <dbl>\\\\\n",
       "\\hline\n",
       "\t Adelie & Torgersen & male   & 2007 & bill\\_length\\_mm    &   39.1\\\\\n",
       "\t Adelie & Torgersen & male   & 2007 & bill\\_depth\\_mm     &   18.7\\\\\n",
       "\t Adelie & Torgersen & male   & 2007 & flipper\\_length\\_mm &  181.0\\\\\n",
       "\t Adelie & Torgersen & male   & 2007 & body\\_mass\\_g       & 3750.0\\\\\n",
       "\t Adelie & Torgersen & female & 2007 & bill\\_length\\_mm    &   39.5\\\\\n",
       "\t Adelie & Torgersen & female & 2007 & bill\\_depth\\_mm     &   17.4\\\\\n",
       "\\end{tabular}\n"
      ],
      "text/markdown": [
       "\n",
       "A tibble: 6 × 6\n",
       "\n",
       "| species &lt;fct&gt; | island &lt;fct&gt; | sex &lt;fct&gt; | year &lt;int&gt; | name &lt;chr&gt; | value &lt;dbl&gt; |\n",
       "|---|---|---|---|---|---|\n",
       "| Adelie | Torgersen | male   | 2007 | bill_length_mm    |   39.1 |\n",
       "| Adelie | Torgersen | male   | 2007 | bill_depth_mm     |   18.7 |\n",
       "| Adelie | Torgersen | male   | 2007 | flipper_length_mm |  181.0 |\n",
       "| Adelie | Torgersen | male   | 2007 | body_mass_g       | 3750.0 |\n",
       "| Adelie | Torgersen | female | 2007 | bill_length_mm    |   39.5 |\n",
       "| Adelie | Torgersen | female | 2007 | bill_depth_mm     |   17.4 |\n",
       "\n"
      ],
      "text/plain": [
       "  species island    sex    year name              value \n",
       "1 Adelie  Torgersen male   2007 bill_length_mm      39.1\n",
       "2 Adelie  Torgersen male   2007 bill_depth_mm       18.7\n",
       "3 Adelie  Torgersen male   2007 flipper_length_mm  181.0\n",
       "4 Adelie  Torgersen male   2007 body_mass_g       3750.0\n",
       "5 Adelie  Torgersen female 2007 bill_length_mm      39.5\n",
       "6 Adelie  Torgersen female 2007 bill_depth_mm       17.4"
      ]
     },
     "metadata": {},
     "output_type": "display_data"
    }
   ],
   "source": [
    "# uncomment the following lines\n",
    "\n",
    "penguins_long = penguins %>% pivot_longer(-c(species, island, sex, year)) %>% drop_na()\n",
    "penguins_long %>% head"
   ]
  },
  {
   "cell_type": "markdown",
   "metadata": {},
   "source": [
    "Re-create the following figure.\n",
    "\n",
    "These functions will come in handy:\n",
    "- `geom_point`\n",
    "- `facet_wrap`\n",
    "- `position_jitter`\n",
    "\n",
    "This line will add the `median` lines to the chart.\n",
    "\n",
    "```R\n",
    "p = p + stat_summary(fun = median, \n",
    "                     fun.min = median, \n",
    "                     fun.max = median, \n",
    "                     geom = \"crossbar\", \n",
    "                     width = 0.75, \n",
    "                     size = 0.2,\n",
    "                     mapping = aes(group = species))\n",
    "```\n",
    "\n",
    "This line adjusts the x-axis text.\n",
    "\n",
    "```R\n",
    "p = p + theme(axis.text.x = element_text(hjust = 1, angle = 45))\n",
    "```"
   ]
  },
  {
   "cell_type": "markdown",
   "metadata": {},
   "source": [
    "<img src=\"03_assignment_example.png\" />"
   ]
  },
  {
   "cell_type": "code",
   "execution_count": 6,
   "metadata": {},
   "outputs": [],
   "source": [
    "options(repr.plot.width = 8, repr.plot.height = 3)\n",
    "\n",
    "p <- ggplot(penguins_long, aes(x = species, y = value, color = sex))\n",
    "p <- p + geom_point(position = 'jitter', alpha = 0.05) + facet_wrap(~name, nrow = 1, scales = 'free')\n",
    "p = p + theme(axis.text.x = element_text(hjust = 1, angle = 45))\n",
    "\n",
    "p = p + stat_summary(fun = median, \n",
    "                     fun.min = median, \n",
    "                     fun.max = median, \n",
    "                     geom = \"crossbar\", \n",
    "                     width = 0.75, \n",
    "                     size = 0.2,\n",
    "                     mapping = aes(group = species))"
   ]
  },
  {
   "cell_type": "code",
   "execution_count": null,
   "metadata": {},
   "outputs": [],
   "source": []
  }
 ],
 "metadata": {
  "kernelspec": {
   "display_name": "R",
   "language": "R",
   "name": "ir"
  },
  "language_info": {
   "codemirror_mode": "r",
   "file_extension": ".r",
   "mimetype": "text/x-r-source",
   "name": "R",
   "pygments_lexer": "r",
   "version": "4.0.0"
  }
 },
 "nbformat": 4,
 "nbformat_minor": 4
}
