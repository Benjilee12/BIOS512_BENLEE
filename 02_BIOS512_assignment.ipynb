{
 "cells": [
  {
   "cell_type": "markdown",
   "metadata": {},
   "source": [
    "Import the tidyverse and configure your notebook for nicely sized output."
   ]
  },
  {
   "cell_type": "code",
   "execution_count": 1,
   "metadata": {},
   "outputs": [
    {
     "name": "stderr",
     "output_type": "stream",
     "text": [
      "Registered S3 methods overwritten by 'ggplot2':\n",
      "  method         from \n",
      "  [.quosures     rlang\n",
      "  c.quosures     rlang\n",
      "  print.quosures rlang\n",
      "Registered S3 method overwritten by 'rvest':\n",
      "  method            from\n",
      "  read_xml.response xml2\n",
      "── Attaching packages ─────────────────────────────────────── tidyverse 1.2.1 ──\n",
      "✔ ggplot2 3.1.1       ✔ purrr   0.3.2  \n",
      "✔ tibble  2.1.1       ✔ dplyr   0.8.0.1\n",
      "✔ tidyr   0.8.3       ✔ stringr 1.4.0  \n",
      "✔ readr   1.3.1       ✔ forcats 0.4.0  \n",
      "── Conflicts ────────────────────────────────────────── tidyverse_conflicts() ──\n",
      "✖ dplyr::filter() masks stats::filter()\n",
      "✖ dplyr::lag()    masks stats::lag()\n"
     ]
    }
   ],
   "source": [
    "library(\"tidyverse\")\n",
    "options(repr.plot.width = 3, repr.plot.height = 4, repr.plot.res = 300)"
   ]
  },
  {
   "cell_type": "markdown",
   "metadata": {},
   "source": [
    "The data for this assignment is lines of dialogue from [Avatar: The Last Airbender](https://avatar.fandom.com/wiki/Avatar:_The_Last_Airbender). The data is provided in raw form [on GitHub](https://github.com/rfordatascience/tidytuesday/blob/master/data/2020/2020-08-11/readme.md)."
   ]
  },
  {
   "cell_type": "markdown",
   "metadata": {},
   "source": [
    "The following cell provides twofollowing data sets:\n",
    "1. `book1`: each row is a line of dialogue in Book One.\n",
    "1. `book2`: each row represents the number of times a character speaks in Book Two.\n",
    "\n",
    "Uncomment and run this cell below."
   ]
  },
  {
   "cell_type": "code",
   "execution_count": 4,
   "metadata": {},
   "outputs": [
    {
     "ename": "ERROR",
     "evalue": "Error in fct_lump_n(character, 10): 함수 \"fct_lump_n\"를 찾을 수 없습니다\n",
     "output_type": "error",
     "traceback": [
      "Error in fct_lump_n(character, 10): 함수 \"fct_lump_n\"를 찾을 수 없습니다\nTraceback:\n",
      "1. avatar_raw %>% filter(book_num == 1, character != \"Scene Description\", \n .     !is.na(character_words)) %>% select(book_num, character, \n .     character_words) %>% mutate(character = fct_lump_n(character, \n .     10)) %>% mutate(character = fct_rev(fct_infreq(character)))",
      "2. withVisible(eval(quote(`_fseq`(`_lhs`)), env, env))",
      "3. eval(quote(`_fseq`(`_lhs`)), env, env)",
      "4. eval(quote(`_fseq`(`_lhs`)), env, env)",
      "5. `_fseq`(`_lhs`)",
      "6. freduce(value, `_function_list`)",
      "7. function_list[[i]](value)",
      "8. mutate(., character = fct_lump_n(character, 10))",
      "9. mutate.tbl_df(., character = fct_lump_n(character, 10))",
      "10. mutate_impl(.data, dots, caller_env())"
     ]
    }
   ],
   "source": [
    "avatar_raw <- suppressMessages(\n",
    "   read_csv(\n",
    "         \"https://raw.githubusercontent.com/rfordatascience/tidytuesday/master/data/2020/2020-08-11/avatar.csv\"\n",
    "    )\n",
    ")\n",
    "\n",
    "book1 = avatar_raw %>% \n",
    "    filter(book_num == 1, character != \"Scene Description\", !is.na(character_words)) %>%\n",
    "    select(book_num, character, character_words) %>%\n",
    "    mutate(character = fct_lump_n(character, 10)) %>%\n",
    "    mutate(character = fct_rev(fct_infreq(character)))\n",
    "\n",
    " book2 = avatar_raw %>% \n",
    "    filter(book_num == 2, character != \"Scene Description\", !is.na(character_words)) %>%\n",
    "    select(book_num, character) %>%\n",
    "    mutate(character = fct_lump_n(character, 10)) %>%\n",
    "    count(character) %>%\n",
    "    arrange(desc(n)) %>%\n",
    "mutate(character = fct_rev(fct_inorder(character)))"
   ]
  },
  {
   "cell_type": "markdown",
   "metadata": {},
   "source": [
    "Preview the `book1` data set using the `head` function."
   ]
  },
  {
   "cell_type": "code",
   "execution_count": 3,
   "metadata": {},
   "outputs": [
    {
     "ename": "ERROR",
     "evalue": "Error in head(book1): 객체 'book1'를 찾을 수 없습니다\n",
     "output_type": "error",
     "traceback": [
      "Error in head(book1): 객체 'book1'를 찾을 수 없습니다\nTraceback:\n",
      "1. head(book1)"
     ]
    }
   ],
   "source": [
    "head(book1)"
   ]
  },
  {
   "cell_type": "markdown",
   "metadata": {},
   "source": [
    "**Using `geom_bar` plot the number of times each character speaks in Book One**"
   ]
  },
  {
   "cell_type": "code",
   "execution_count": null,
   "metadata": {},
   "outputs": [],
   "source": []
  },
  {
   "cell_type": "markdown",
   "metadata": {},
   "source": [
    "Preview the `book2` data set using the `head` function."
   ]
  },
  {
   "cell_type": "code",
   "execution_count": null,
   "metadata": {},
   "outputs": [],
   "source": []
  },
  {
   "cell_type": "markdown",
   "metadata": {},
   "source": [
    "**Using `geom_col` plot the number of times each character speaks in Book Two**"
   ]
  },
  {
   "cell_type": "code",
   "execution_count": null,
   "metadata": {},
   "outputs": [],
   "source": []
  }
 ],
 "metadata": {
  "kernelspec": {
   "display_name": "R",
   "language": "R",
   "name": "ir"
  },
  "language_info": {
   "codemirror_mode": "r",
   "file_extension": ".r",
   "mimetype": "text/x-r-source",
   "name": "R",
   "pygments_lexer": "r",
   "version": "3.6.1"
  }
 },
 "nbformat": 4,
 "nbformat_minor": 4
}
