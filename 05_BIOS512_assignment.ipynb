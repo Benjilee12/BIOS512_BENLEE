{
 "cells": [
  {
   "cell_type": "markdown",
   "metadata": {},
   "source": [
    "# Assignment #5"
   ]
  },
  {
   "cell_type": "markdown",
   "metadata": {},
   "source": [
    "## Due: November 17, 2020"
   ]
  },
  {
   "cell_type": "markdown",
   "metadata": {},
   "source": [
    "Read in the [Volcano eruptions](https://raw.githubusercontent.com/rfordatascience/tidytuesday/master/data/2020/2020-05-12/eruptions.csv) data from the TidyTuesday project with `read_csv`."
   ]
  },
  {
   "cell_type": "markdown",
   "metadata": {},
   "source": [
    "Use the `print` function to find the number of rows and columns in the data."
   ]
  },
  {
   "cell_type": "code",
   "execution_count": 5,
   "metadata": {},
   "outputs": [
    {
     "name": "stderr",
     "output_type": "stream",
     "text": [
      "Parsed with column specification:\n",
      "cols(\n",
      "  volcano_number = \u001b[32mcol_double()\u001b[39m,\n",
      "  volcano_name = \u001b[31mcol_character()\u001b[39m,\n",
      "  eruption_number = \u001b[32mcol_double()\u001b[39m,\n",
      "  eruption_category = \u001b[31mcol_character()\u001b[39m,\n",
      "  area_of_activity = \u001b[31mcol_character()\u001b[39m,\n",
      "  vei = \u001b[32mcol_double()\u001b[39m,\n",
      "  start_year = \u001b[32mcol_double()\u001b[39m,\n",
      "  start_month = \u001b[32mcol_double()\u001b[39m,\n",
      "  start_day = \u001b[32mcol_double()\u001b[39m,\n",
      "  evidence_method_dating = \u001b[31mcol_character()\u001b[39m,\n",
      "  end_year = \u001b[32mcol_double()\u001b[39m,\n",
      "  end_month = \u001b[32mcol_double()\u001b[39m,\n",
      "  end_day = \u001b[32mcol_double()\u001b[39m,\n",
      "  latitude = \u001b[32mcol_double()\u001b[39m,\n",
      "  longitude = \u001b[32mcol_double()\u001b[39m\n",
      ")\n",
      "\n"
     ]
    },
    {
     "name": "stdout",
     "output_type": "stream",
     "text": [
      "\u001b[90m# A tibble: 11,178 x 15\u001b[39m\n",
      "   volcano_number volcano_name eruption_number eruption_catego… area_of_activity\n",
      "            \u001b[3m\u001b[90m<dbl>\u001b[39m\u001b[23m \u001b[3m\u001b[90m<chr>\u001b[39m\u001b[23m                  \u001b[3m\u001b[90m<dbl>\u001b[39m\u001b[23m \u001b[3m\u001b[90m<chr>\u001b[39m\u001b[23m            \u001b[3m\u001b[90m<chr>\u001b[39m\u001b[23m           \n",
      "\u001b[90m 1\u001b[39m         \u001b[4m2\u001b[24m\u001b[4m6\u001b[24m\u001b[4m6\u001b[24m030 Soputan                \u001b[4m2\u001b[24m\u001b[4m2\u001b[24m354 Confirmed Erupt… \u001b[31mNA\u001b[39m              \n",
      "\u001b[90m 2\u001b[39m         \u001b[4m3\u001b[24m\u001b[4m4\u001b[24m\u001b[4m3\u001b[24m100 San Miguel             \u001b[4m2\u001b[24m\u001b[4m2\u001b[24m355 Confirmed Erupt… \u001b[31mNA\u001b[39m              \n",
      "\u001b[90m 3\u001b[39m         \u001b[4m2\u001b[24m\u001b[4m3\u001b[24m\u001b[4m3\u001b[24m020 Fournaise, …           \u001b[4m2\u001b[24m\u001b[4m2\u001b[24m343 Confirmed Erupt… \u001b[31mNA\u001b[39m              \n",
      "\u001b[90m 4\u001b[39m         \u001b[4m3\u001b[24m\u001b[4m4\u001b[24m\u001b[4m5\u001b[24m020 Rincon de l…           \u001b[4m2\u001b[24m\u001b[4m2\u001b[24m346 Confirmed Erupt… \u001b[31mNA\u001b[39m              \n",
      "\u001b[90m 5\u001b[39m         \u001b[4m3\u001b[24m\u001b[4m5\u001b[24m\u001b[4m3\u001b[24m010 Fernandina             \u001b[4m2\u001b[24m\u001b[4m2\u001b[24m347 Confirmed Erupt… \u001b[31mNA\u001b[39m              \n",
      "\u001b[90m 6\u001b[39m         \u001b[4m2\u001b[24m\u001b[4m7\u001b[24m\u001b[4m3\u001b[24m070 Taal                   \u001b[4m2\u001b[24m\u001b[4m2\u001b[24m344 Confirmed Erupt… \u001b[31mNA\u001b[39m              \n",
      "\u001b[90m 7\u001b[39m         \u001b[4m2\u001b[24m\u001b[4m8\u001b[24m\u001b[4m2\u001b[24m050 Kuchinoerab…           \u001b[4m2\u001b[24m\u001b[4m2\u001b[24m345 Confirmed Erupt… \u001b[31mNA\u001b[39m              \n",
      "\u001b[90m 8\u001b[39m         \u001b[4m2\u001b[24m\u001b[4m4\u001b[24m\u001b[4m1\u001b[24m040 Whakaari/Wh…           \u001b[4m2\u001b[24m\u001b[4m2\u001b[24m338 Confirmed Erupt… 1978/90 Crater …\n",
      "\u001b[90m 9\u001b[39m         \u001b[4m3\u001b[24m\u001b[4m1\u001b[24m\u001b[4m1\u001b[24m060 Semisopochn…           \u001b[4m2\u001b[24m\u001b[4m2\u001b[24m341 Confirmed Erupt… \u001b[31mNA\u001b[39m              \n",
      "\u001b[90m10\u001b[39m         \u001b[4m2\u001b[24m\u001b[4m8\u001b[24m\u001b[4m4\u001b[24m096 Nishinoshima           \u001b[4m2\u001b[24m\u001b[4m2\u001b[24m340 Confirmed Erupt… \u001b[31mNA\u001b[39m              \n",
      "\u001b[90m# … with 11,168 more rows, and 10 more variables: vei \u001b[3m\u001b[90m<dbl>\u001b[90m\u001b[23m, start_year \u001b[3m\u001b[90m<dbl>\u001b[90m\u001b[23m,\u001b[39m\n",
      "\u001b[90m#   start_month \u001b[3m\u001b[90m<dbl>\u001b[90m\u001b[23m, start_day \u001b[3m\u001b[90m<dbl>\u001b[90m\u001b[23m, evidence_method_dating \u001b[3m\u001b[90m<chr>\u001b[90m\u001b[23m,\u001b[39m\n",
      "\u001b[90m#   end_year \u001b[3m\u001b[90m<dbl>\u001b[90m\u001b[23m, end_month \u001b[3m\u001b[90m<dbl>\u001b[90m\u001b[23m, end_day \u001b[3m\u001b[90m<dbl>\u001b[90m\u001b[23m, latitude \u001b[3m\u001b[90m<dbl>\u001b[90m\u001b[23m,\u001b[39m\n",
      "\u001b[90m#   longitude \u001b[3m\u001b[90m<dbl>\u001b[90m\u001b[23m\u001b[39m\n"
     ]
    },
    {
     "data": {
      "text/html": [
       "<table>\n",
       "<caption>A tibble: 6 × 15</caption>\n",
       "<thead>\n",
       "\t<tr><th scope=col>volcano_number</th><th scope=col>volcano_name</th><th scope=col>eruption_number</th><th scope=col>eruption_category</th><th scope=col>area_of_activity</th><th scope=col>vei</th><th scope=col>start_year</th><th scope=col>start_month</th><th scope=col>start_day</th><th scope=col>evidence_method_dating</th><th scope=col>end_year</th><th scope=col>end_month</th><th scope=col>end_day</th><th scope=col>latitude</th><th scope=col>longitude</th></tr>\n",
       "\t<tr><th scope=col>&lt;dbl&gt;</th><th scope=col>&lt;chr&gt;</th><th scope=col>&lt;dbl&gt;</th><th scope=col>&lt;chr&gt;</th><th scope=col>&lt;chr&gt;</th><th scope=col>&lt;dbl&gt;</th><th scope=col>&lt;dbl&gt;</th><th scope=col>&lt;dbl&gt;</th><th scope=col>&lt;dbl&gt;</th><th scope=col>&lt;chr&gt;</th><th scope=col>&lt;dbl&gt;</th><th scope=col>&lt;dbl&gt;</th><th scope=col>&lt;dbl&gt;</th><th scope=col>&lt;dbl&gt;</th><th scope=col>&lt;dbl&gt;</th></tr>\n",
       "</thead>\n",
       "<tbody>\n",
       "\t<tr><td>266030</td><td>Soputan               </td><td>22354</td><td>Confirmed Eruption</td><td>NA</td><td>NA</td><td>2020</td><td>3</td><td>23</td><td>Historical Observations</td><td>2020</td><td>4</td><td> 2</td><td>  1.112</td><td>124.737</td></tr>\n",
       "\t<tr><td>343100</td><td>San Miguel            </td><td>22355</td><td>Confirmed Eruption</td><td>NA</td><td>NA</td><td>2020</td><td>2</td><td>22</td><td>Historical Observations</td><td>2020</td><td>2</td><td>22</td><td> 13.434</td><td>-88.269</td></tr>\n",
       "\t<tr><td>233020</td><td>Fournaise, Piton de la</td><td>22343</td><td>Confirmed Eruption</td><td>NA</td><td>NA</td><td>2020</td><td>2</td><td>10</td><td>Historical Observations</td><td>2020</td><td>4</td><td> 6</td><td>-21.244</td><td> 55.708</td></tr>\n",
       "\t<tr><td>345020</td><td>Rincon de la Vieja    </td><td>22346</td><td>Confirmed Eruption</td><td>NA</td><td>NA</td><td>2020</td><td>1</td><td>31</td><td>Historical Observations</td><td>2020</td><td>4</td><td>17</td><td> 10.830</td><td>-85.324</td></tr>\n",
       "\t<tr><td>353010</td><td>Fernandina            </td><td>22347</td><td>Confirmed Eruption</td><td>NA</td><td>NA</td><td>2020</td><td>1</td><td>12</td><td>Historical Observations</td><td>2020</td><td>1</td><td>12</td><td> -0.370</td><td>-91.550</td></tr>\n",
       "\t<tr><td>273070</td><td>Taal                  </td><td>22344</td><td>Confirmed Eruption</td><td>NA</td><td>NA</td><td>2020</td><td>1</td><td>12</td><td>Historical Observations</td><td>2020</td><td>1</td><td>22</td><td> 14.002</td><td>120.993</td></tr>\n",
       "</tbody>\n",
       "</table>\n"
      ],
      "text/latex": [
       "A tibble: 6 × 15\n",
       "\\begin{tabular}{lllllllllllllll}\n",
       " volcano\\_number & volcano\\_name & eruption\\_number & eruption\\_category & area\\_of\\_activity & vei & start\\_year & start\\_month & start\\_day & evidence\\_method\\_dating & end\\_year & end\\_month & end\\_day & latitude & longitude\\\\\n",
       " <dbl> & <chr> & <dbl> & <chr> & <chr> & <dbl> & <dbl> & <dbl> & <dbl> & <chr> & <dbl> & <dbl> & <dbl> & <dbl> & <dbl>\\\\\n",
       "\\hline\n",
       "\t 266030 & Soputan                & 22354 & Confirmed Eruption & NA & NA & 2020 & 3 & 23 & Historical Observations & 2020 & 4 &  2 &   1.112 & 124.737\\\\\n",
       "\t 343100 & San Miguel             & 22355 & Confirmed Eruption & NA & NA & 2020 & 2 & 22 & Historical Observations & 2020 & 2 & 22 &  13.434 & -88.269\\\\\n",
       "\t 233020 & Fournaise, Piton de la & 22343 & Confirmed Eruption & NA & NA & 2020 & 2 & 10 & Historical Observations & 2020 & 4 &  6 & -21.244 &  55.708\\\\\n",
       "\t 345020 & Rincon de la Vieja     & 22346 & Confirmed Eruption & NA & NA & 2020 & 1 & 31 & Historical Observations & 2020 & 4 & 17 &  10.830 & -85.324\\\\\n",
       "\t 353010 & Fernandina             & 22347 & Confirmed Eruption & NA & NA & 2020 & 1 & 12 & Historical Observations & 2020 & 1 & 12 &  -0.370 & -91.550\\\\\n",
       "\t 273070 & Taal                   & 22344 & Confirmed Eruption & NA & NA & 2020 & 1 & 12 & Historical Observations & 2020 & 1 & 22 &  14.002 & 120.993\\\\\n",
       "\\end{tabular}\n"
      ],
      "text/markdown": [
       "\n",
       "A tibble: 6 × 15\n",
       "\n",
       "| volcano_number &lt;dbl&gt; | volcano_name &lt;chr&gt; | eruption_number &lt;dbl&gt; | eruption_category &lt;chr&gt; | area_of_activity &lt;chr&gt; | vei &lt;dbl&gt; | start_year &lt;dbl&gt; | start_month &lt;dbl&gt; | start_day &lt;dbl&gt; | evidence_method_dating &lt;chr&gt; | end_year &lt;dbl&gt; | end_month &lt;dbl&gt; | end_day &lt;dbl&gt; | latitude &lt;dbl&gt; | longitude &lt;dbl&gt; |\n",
       "|---|---|---|---|---|---|---|---|---|---|---|---|---|---|---|\n",
       "| 266030 | Soputan                | 22354 | Confirmed Eruption | NA | NA | 2020 | 3 | 23 | Historical Observations | 2020 | 4 |  2 |   1.112 | 124.737 |\n",
       "| 343100 | San Miguel             | 22355 | Confirmed Eruption | NA | NA | 2020 | 2 | 22 | Historical Observations | 2020 | 2 | 22 |  13.434 | -88.269 |\n",
       "| 233020 | Fournaise, Piton de la | 22343 | Confirmed Eruption | NA | NA | 2020 | 2 | 10 | Historical Observations | 2020 | 4 |  6 | -21.244 |  55.708 |\n",
       "| 345020 | Rincon de la Vieja     | 22346 | Confirmed Eruption | NA | NA | 2020 | 1 | 31 | Historical Observations | 2020 | 4 | 17 |  10.830 | -85.324 |\n",
       "| 353010 | Fernandina             | 22347 | Confirmed Eruption | NA | NA | 2020 | 1 | 12 | Historical Observations | 2020 | 1 | 12 |  -0.370 | -91.550 |\n",
       "| 273070 | Taal                   | 22344 | Confirmed Eruption | NA | NA | 2020 | 1 | 12 | Historical Observations | 2020 | 1 | 22 |  14.002 | 120.993 |\n",
       "\n"
      ],
      "text/plain": [
       "  volcano_number volcano_name           eruption_number eruption_category \n",
       "1 266030         Soputan                22354           Confirmed Eruption\n",
       "2 343100         San Miguel             22355           Confirmed Eruption\n",
       "3 233020         Fournaise, Piton de la 22343           Confirmed Eruption\n",
       "4 345020         Rincon de la Vieja     22346           Confirmed Eruption\n",
       "5 353010         Fernandina             22347           Confirmed Eruption\n",
       "6 273070         Taal                   22344           Confirmed Eruption\n",
       "  area_of_activity vei start_year start_month start_day evidence_method_dating \n",
       "1 NA               NA  2020       3           23        Historical Observations\n",
       "2 NA               NA  2020       2           22        Historical Observations\n",
       "3 NA               NA  2020       2           10        Historical Observations\n",
       "4 NA               NA  2020       1           31        Historical Observations\n",
       "5 NA               NA  2020       1           12        Historical Observations\n",
       "6 NA               NA  2020       1           12        Historical Observations\n",
       "  end_year end_month end_day latitude longitude\n",
       "1 2020     4          2        1.112  124.737  \n",
       "2 2020     2         22       13.434  -88.269  \n",
       "3 2020     4          6      -21.244   55.708  \n",
       "4 2020     4         17       10.830  -85.324  \n",
       "5 2020     1         12       -0.370  -91.550  \n",
       "6 2020     1         22       14.002  120.993  "
      ]
     },
     "metadata": {},
     "output_type": "display_data"
    }
   ],
   "source": [
    "library(tidyverse)\n",
    "volc <- read_csv('https://raw.githubusercontent.com/rfordatascience/tidytuesday/master/data/2020/2020-05-12/eruptions.csv')\n",
    "print(volc)\n",
    "head(volc)"
   ]
  },
  {
   "cell_type": "markdown",
   "metadata": {},
   "source": [
    "Using `group_by`, `summarize` (or `count`), and `arrange`, find the volcano with the most recorded eruptions in the data. Remeber the [desc](https://dplyr.tidyverse.org/reference/desc.html) function can be used to sort in descending order."
   ]
  },
  {
   "cell_type": "code",
   "execution_count": 12,
   "metadata": {},
   "outputs": [
    {
     "name": "stderr",
     "output_type": "stream",
     "text": [
      "`summarise()` ungrouping output (override with `.groups` argument)\n",
      "\n"
     ]
    },
    {
     "data": {
      "text/html": [
       "<table>\n",
       "<caption>A tibble: 6 × 2</caption>\n",
       "<thead>\n",
       "\t<tr><th scope=col>volcano_name</th><th scope=col>n</th></tr>\n",
       "\t<tr><th scope=col>&lt;chr&gt;</th><th scope=col>&lt;int&gt;</th></tr>\n",
       "</thead>\n",
       "<tbody>\n",
       "\t<tr><td>Etna                  </td><td>196</td></tr>\n",
       "\t<tr><td>Fournaise, Piton de la</td><td>188</td></tr>\n",
       "\t<tr><td>Asosan                </td><td>171</td></tr>\n",
       "\t<tr><td>Villarrica            </td><td>152</td></tr>\n",
       "\t<tr><td>Asamayama             </td><td>129</td></tr>\n",
       "\t<tr><td>Katla                 </td><td>128</td></tr>\n",
       "</tbody>\n",
       "</table>\n"
      ],
      "text/latex": [
       "A tibble: 6 × 2\n",
       "\\begin{tabular}{ll}\n",
       " volcano\\_name & n\\\\\n",
       " <chr> & <int>\\\\\n",
       "\\hline\n",
       "\t Etna                   & 196\\\\\n",
       "\t Fournaise, Piton de la & 188\\\\\n",
       "\t Asosan                 & 171\\\\\n",
       "\t Villarrica             & 152\\\\\n",
       "\t Asamayama              & 129\\\\\n",
       "\t Katla                  & 128\\\\\n",
       "\\end{tabular}\n"
      ],
      "text/markdown": [
       "\n",
       "A tibble: 6 × 2\n",
       "\n",
       "| volcano_name &lt;chr&gt; | n &lt;int&gt; |\n",
       "|---|---|\n",
       "| Etna                   | 196 |\n",
       "| Fournaise, Piton de la | 188 |\n",
       "| Asosan                 | 171 |\n",
       "| Villarrica             | 152 |\n",
       "| Asamayama              | 129 |\n",
       "| Katla                  | 128 |\n",
       "\n"
      ],
      "text/plain": [
       "  volcano_name           n  \n",
       "1 Etna                   196\n",
       "2 Fournaise, Piton de la 188\n",
       "3 Asosan                 171\n",
       "4 Villarrica             152\n",
       "5 Asamayama              129\n",
       "6 Katla                  128"
      ]
     },
     "metadata": {},
     "output_type": "display_data"
    },
    {
     "data": {
      "text/html": [
       "863"
      ],
      "text/latex": [
       "863"
      ],
      "text/markdown": [
       "863"
      ],
      "text/plain": [
       "[1] 863"
      ]
     },
     "metadata": {},
     "output_type": "display_data"
    }
   ],
   "source": [
    "volc_erupt <- volc %>%\n",
    "    filter( eruption_category == \"Confirmed Eruption\") %>%\n",
    "    group_by (volcano_name) %>%\n",
    "    summarize(n = n()) %>%\n",
    "    arrange(desc(n))\n",
    "head(volc_erupt)\n",
    "nrow(volc_erupt)\n",
    "#Etna is the volcano with the most recorded eruptions in this datset"
   ]
  },
  {
   "cell_type": "markdown",
   "metadata": {},
   "source": [
    "Using `filter` and `arrange`, what is the year of the most recent eruption for the volcano above (i.e. the volcano with the most recorded eruptions in the data)? "
   ]
  },
  {
   "cell_type": "code",
   "execution_count": 16,
   "metadata": {},
   "outputs": [
    {
     "data": {
      "text/html": [
       "<table>\n",
       "<caption>A tibble: 6 × 15</caption>\n",
       "<thead>\n",
       "\t<tr><th scope=col>volcano_number</th><th scope=col>volcano_name</th><th scope=col>eruption_number</th><th scope=col>eruption_category</th><th scope=col>area_of_activity</th><th scope=col>vei</th><th scope=col>start_year</th><th scope=col>start_month</th><th scope=col>start_day</th><th scope=col>evidence_method_dating</th><th scope=col>end_year</th><th scope=col>end_month</th><th scope=col>end_day</th><th scope=col>latitude</th><th scope=col>longitude</th></tr>\n",
       "\t<tr><th scope=col>&lt;dbl&gt;</th><th scope=col>&lt;chr&gt;</th><th scope=col>&lt;dbl&gt;</th><th scope=col>&lt;chr&gt;</th><th scope=col>&lt;chr&gt;</th><th scope=col>&lt;dbl&gt;</th><th scope=col>&lt;dbl&gt;</th><th scope=col>&lt;dbl&gt;</th><th scope=col>&lt;dbl&gt;</th><th scope=col>&lt;chr&gt;</th><th scope=col>&lt;dbl&gt;</th><th scope=col>&lt;dbl&gt;</th><th scope=col>&lt;dbl&gt;</th><th scope=col>&lt;dbl&gt;</th><th scope=col>&lt;dbl&gt;</th></tr>\n",
       "</thead>\n",
       "<tbody>\n",
       "\t<tr><td>211060</td><td>Etna</td><td>20841</td><td>Confirmed Eruption</td><td>New Southeast Crater (NSEC)           </td><td>2</td><td>2013</td><td>9</td><td> 3</td><td>Historical Observations</td><td>2020</td><td> 4</td><td>17</td><td>37.748</td><td>14.999</td></tr>\n",
       "\t<tr><td>211060</td><td>Etna</td><td>13854</td><td>Confirmed Eruption</td><td>Bocca Nuova, NE and SE Craters        </td><td>1</td><td>2010</td><td>8</td><td>25</td><td>Historical Observations</td><td>2013</td><td> 4</td><td>27</td><td>37.748</td><td>14.999</td></tr>\n",
       "\t<tr><td>211060</td><td>Etna</td><td>13853</td><td>Confirmed Eruption</td><td>SE Crater                             </td><td>2</td><td>2010</td><td>4</td><td> 8</td><td>Historical Observations</td><td>2010</td><td> 4</td><td> 8</td><td>37.748</td><td>14.999</td></tr>\n",
       "\t<tr><td>211060</td><td>Etna</td><td>13852</td><td>Confirmed Eruption</td><td>East base of NE Crater (3000-2650 m)  </td><td>1</td><td>2008</td><td>5</td><td>13</td><td>Historical Observations</td><td>2009</td><td> 7</td><td> 4</td><td>37.748</td><td>14.999</td></tr>\n",
       "\t<tr><td>211060</td><td>Etna</td><td>13849</td><td>Confirmed Eruption</td><td>Bocca Nuova, SE Crater and flank vents</td><td>2</td><td>2007</td><td>3</td><td>19</td><td>Historical Observations</td><td>2008</td><td> 5</td><td>16</td><td>37.748</td><td>14.999</td></tr>\n",
       "\t<tr><td>211060</td><td>Etna</td><td>13848</td><td>Confirmed Eruption</td><td><span style=white-space:pre-wrap>SE Crater &amp; flank vents; NE Crater    </span></td><td>2</td><td>2006</td><td>7</td><td>14</td><td>Historical Observations</td><td>2006</td><td>12</td><td>15</td><td>37.748</td><td>14.999</td></tr>\n",
       "</tbody>\n",
       "</table>\n"
      ],
      "text/latex": [
       "A tibble: 6 × 15\n",
       "\\begin{tabular}{lllllllllllllll}\n",
       " volcano\\_number & volcano\\_name & eruption\\_number & eruption\\_category & area\\_of\\_activity & vei & start\\_year & start\\_month & start\\_day & evidence\\_method\\_dating & end\\_year & end\\_month & end\\_day & latitude & longitude\\\\\n",
       " <dbl> & <chr> & <dbl> & <chr> & <chr> & <dbl> & <dbl> & <dbl> & <dbl> & <chr> & <dbl> & <dbl> & <dbl> & <dbl> & <dbl>\\\\\n",
       "\\hline\n",
       "\t 211060 & Etna & 20841 & Confirmed Eruption & New Southeast Crater (NSEC)            & 2 & 2013 & 9 &  3 & Historical Observations & 2020 &  4 & 17 & 37.748 & 14.999\\\\\n",
       "\t 211060 & Etna & 13854 & Confirmed Eruption & Bocca Nuova, NE and SE Craters         & 1 & 2010 & 8 & 25 & Historical Observations & 2013 &  4 & 27 & 37.748 & 14.999\\\\\n",
       "\t 211060 & Etna & 13853 & Confirmed Eruption & SE Crater                              & 2 & 2010 & 4 &  8 & Historical Observations & 2010 &  4 &  8 & 37.748 & 14.999\\\\\n",
       "\t 211060 & Etna & 13852 & Confirmed Eruption & East base of NE Crater (3000-2650 m)   & 1 & 2008 & 5 & 13 & Historical Observations & 2009 &  7 &  4 & 37.748 & 14.999\\\\\n",
       "\t 211060 & Etna & 13849 & Confirmed Eruption & Bocca Nuova, SE Crater and flank vents & 2 & 2007 & 3 & 19 & Historical Observations & 2008 &  5 & 16 & 37.748 & 14.999\\\\\n",
       "\t 211060 & Etna & 13848 & Confirmed Eruption & SE Crater \\& flank vents; NE Crater     & 2 & 2006 & 7 & 14 & Historical Observations & 2006 & 12 & 15 & 37.748 & 14.999\\\\\n",
       "\\end{tabular}\n"
      ],
      "text/markdown": [
       "\n",
       "A tibble: 6 × 15\n",
       "\n",
       "| volcano_number &lt;dbl&gt; | volcano_name &lt;chr&gt; | eruption_number &lt;dbl&gt; | eruption_category &lt;chr&gt; | area_of_activity &lt;chr&gt; | vei &lt;dbl&gt; | start_year &lt;dbl&gt; | start_month &lt;dbl&gt; | start_day &lt;dbl&gt; | evidence_method_dating &lt;chr&gt; | end_year &lt;dbl&gt; | end_month &lt;dbl&gt; | end_day &lt;dbl&gt; | latitude &lt;dbl&gt; | longitude &lt;dbl&gt; |\n",
       "|---|---|---|---|---|---|---|---|---|---|---|---|---|---|---|\n",
       "| 211060 | Etna | 20841 | Confirmed Eruption | New Southeast Crater (NSEC)            | 2 | 2013 | 9 |  3 | Historical Observations | 2020 |  4 | 17 | 37.748 | 14.999 |\n",
       "| 211060 | Etna | 13854 | Confirmed Eruption | Bocca Nuova, NE and SE Craters         | 1 | 2010 | 8 | 25 | Historical Observations | 2013 |  4 | 27 | 37.748 | 14.999 |\n",
       "| 211060 | Etna | 13853 | Confirmed Eruption | SE Crater                              | 2 | 2010 | 4 |  8 | Historical Observations | 2010 |  4 |  8 | 37.748 | 14.999 |\n",
       "| 211060 | Etna | 13852 | Confirmed Eruption | East base of NE Crater (3000-2650 m)   | 1 | 2008 | 5 | 13 | Historical Observations | 2009 |  7 |  4 | 37.748 | 14.999 |\n",
       "| 211060 | Etna | 13849 | Confirmed Eruption | Bocca Nuova, SE Crater and flank vents | 2 | 2007 | 3 | 19 | Historical Observations | 2008 |  5 | 16 | 37.748 | 14.999 |\n",
       "| 211060 | Etna | 13848 | Confirmed Eruption | SE Crater &amp; flank vents; NE Crater     | 2 | 2006 | 7 | 14 | Historical Observations | 2006 | 12 | 15 | 37.748 | 14.999 |\n",
       "\n"
      ],
      "text/plain": [
       "  volcano_number volcano_name eruption_number eruption_category \n",
       "1 211060         Etna         20841           Confirmed Eruption\n",
       "2 211060         Etna         13854           Confirmed Eruption\n",
       "3 211060         Etna         13853           Confirmed Eruption\n",
       "4 211060         Etna         13852           Confirmed Eruption\n",
       "5 211060         Etna         13849           Confirmed Eruption\n",
       "6 211060         Etna         13848           Confirmed Eruption\n",
       "  area_of_activity                       vei start_year start_month start_day\n",
       "1 New Southeast Crater (NSEC)            2   2013       9            3       \n",
       "2 Bocca Nuova, NE and SE Craters         1   2010       8           25       \n",
       "3 SE Crater                              2   2010       4            8       \n",
       "4 East base of NE Crater (3000-2650 m)   1   2008       5           13       \n",
       "5 Bocca Nuova, SE Crater and flank vents 2   2007       3           19       \n",
       "6 SE Crater & flank vents; NE Crater     2   2006       7           14       \n",
       "  evidence_method_dating  end_year end_month end_day latitude longitude\n",
       "1 Historical Observations 2020      4        17      37.748   14.999   \n",
       "2 Historical Observations 2013      4        27      37.748   14.999   \n",
       "3 Historical Observations 2010      4         8      37.748   14.999   \n",
       "4 Historical Observations 2009      7         4      37.748   14.999   \n",
       "5 Historical Observations 2008      5        16      37.748   14.999   \n",
       "6 Historical Observations 2006     12        15      37.748   14.999   "
      ]
     },
     "metadata": {},
     "output_type": "display_data"
    }
   ],
   "source": [
    "etna <- volc %>%\n",
    "    filter(volcano_name == \"Etna\") %>%\n",
    "    arrange(desc(end_year))\n",
    "head(etna)\n",
    "\n",
    "#2020 is the most recent eruption for Etna"
   ]
  },
  {
   "cell_type": "markdown",
   "metadata": {},
   "source": [
    "Make a bar chart of eruption count by volcano_name. The bars should be sorted by frequency using `fct_infreq`. \"Lump\" the low frequency values into an \"Other\" category with `fct_lump`.\n",
    "\n",
    "**Bonus:** Can you remove the \"Other\" category with the `filter` function if it dominates the chart?"
   ]
  },
  {
   "cell_type": "code",
   "execution_count": 33,
   "metadata": {},
   "outputs": [
    {
     "data": {
      "image/png": "[encoded data removed]",
      "text/plain": [
       "plot without title"
      ]
     },
     "metadata": {
      "image/png": {
       "height": 420,
       "width": 420
      }
     },
     "output_type": "display_data"
    }
   ],
   "source": [
    "volc_erupt <- filter(volc, eruption_category == \"Confirmed Eruption\")\n",
    "\n",
    "p <- ggplot(volc_erupt, aes(x = volcano_name %>%\n",
    "                        fct_lump(n = 10) %>% \n",
    "                        fct_infreq() %>%\n",
    "                        fct_relevel('Other', after = Inf)))\n",
    "p + geom_bar()"
   ]
  },
  {
   "cell_type": "markdown",
   "metadata": {},
   "source": [
    "Using `mutate` generate a column that represents the span of each eruption in years (i.e. \"end_year\" minus \"start_year\"). Use `filter` to exclude eruption spans shorter than ten years. \n",
    "\n",
    "- Plot a histogram of your generated column (i.e. eruption spans greater than ten years).\n",
    "- Which volcano(s) has/have the longest eruption span in years? How long did the eruption last?"
   ]
  },
  {
   "cell_type": "code",
   "execution_count": 31,
   "metadata": {},
   "outputs": [
    {
     "data": {
      "text/html": [
       "<table>\n",
       "<caption>A tibble: 6 × 16</caption>\n",
       "<thead>\n",
       "\t<tr><th scope=col>volcano_number</th><th scope=col>volcano_name</th><th scope=col>eruption_number</th><th scope=col>eruption_category</th><th scope=col>area_of_activity</th><th scope=col>vei</th><th scope=col>start_year</th><th scope=col>start_month</th><th scope=col>start_day</th><th scope=col>evidence_method_dating</th><th scope=col>end_year</th><th scope=col>end_month</th><th scope=col>end_day</th><th scope=col>latitude</th><th scope=col>longitude</th><th scope=col>span</th></tr>\n",
       "\t<tr><th scope=col>&lt;dbl&gt;</th><th scope=col>&lt;chr&gt;</th><th scope=col>&lt;dbl&gt;</th><th scope=col>&lt;chr&gt;</th><th scope=col>&lt;chr&gt;</th><th scope=col>&lt;dbl&gt;</th><th scope=col>&lt;dbl&gt;</th><th scope=col>&lt;dbl&gt;</th><th scope=col>&lt;dbl&gt;</th><th scope=col>&lt;chr&gt;</th><th scope=col>&lt;dbl&gt;</th><th scope=col>&lt;dbl&gt;</th><th scope=col>&lt;dbl&gt;</th><th scope=col>&lt;dbl&gt;</th><th scope=col>&lt;dbl&gt;</th><th scope=col>&lt;dbl&gt;</th></tr>\n",
       "</thead>\n",
       "<tbody>\n",
       "\t<tr><td>211040</td><td>Stromboli  </td><td>13425</td><td>Confirmed Eruption</td><td>Summit craters and Sciara del Fuoco  </td><td>3</td><td>1558</td><td>0</td><td> 0</td><td>Historical Observations</td><td>1857</td><td>0</td><td> 0</td><td> 38.789</td><td> 15.213</td><td>299</td></tr>\n",
       "\t<tr><td>384010</td><td>Fogo       </td><td>13128</td><td>Confirmed Eruption</td><td>Pico                                 </td><td>1</td><td>1500</td><td>0</td><td> 0</td><td>Historical Observations</td><td>1761</td><td>0</td><td> 0</td><td> 14.950</td><td>-24.350</td><td>261</td></tr>\n",
       "\t<tr><td>257100</td><td>Yasur      </td><td>15355</td><td>Confirmed Eruption</td><td>NA                                   </td><td>3</td><td>1774</td><td>7</td><td> 2</td><td>Historical Observations</td><td>2020</td><td>4</td><td>17</td><td>-19.532</td><td>169.447</td><td>246</td></tr>\n",
       "\t<tr><td>352090</td><td>Sangay     </td><td>11647</td><td>Confirmed Eruption</td><td>NA                                   </td><td>3</td><td>1728</td><td>9</td><td>30</td><td>Historical Observations</td><td>1916</td><td>0</td><td> 0</td><td> -2.005</td><td>-78.341</td><td>188</td></tr>\n",
       "\t<tr><td>342030</td><td>Santa Maria</td><td>10626</td><td>Confirmed Eruption</td><td>SW flank (Santiaguito)               </td><td>3</td><td>1922</td><td>6</td><td>22</td><td>Historical Observations</td><td>2020</td><td>4</td><td>17</td><td> 14.757</td><td>-91.552</td><td> 98</td></tr>\n",
       "\t<tr><td>268010</td><td>Dukono     </td><td>16577</td><td>Confirmed Eruption</td><td>Malupang Magiwe and Malupang Warirang</td><td>3</td><td>1933</td><td>8</td><td>13</td><td>Historical Observations</td><td>2020</td><td>4</td><td>17</td><td>  1.693</td><td>127.894</td><td> 87</td></tr>\n",
       "</tbody>\n",
       "</table>\n"
      ],
      "text/latex": [
       "A tibble: 6 × 16\n",
       "\\begin{tabular}{llllllllllllllll}\n",
       " volcano\\_number & volcano\\_name & eruption\\_number & eruption\\_category & area\\_of\\_activity & vei & start\\_year & start\\_month & start\\_day & evidence\\_method\\_dating & end\\_year & end\\_month & end\\_day & latitude & longitude & span\\\\\n",
       " <dbl> & <chr> & <dbl> & <chr> & <chr> & <dbl> & <dbl> & <dbl> & <dbl> & <chr> & <dbl> & <dbl> & <dbl> & <dbl> & <dbl> & <dbl>\\\\\n",
       "\\hline\n",
       "\t 211040 & Stromboli   & 13425 & Confirmed Eruption & Summit craters and Sciara del Fuoco   & 3 & 1558 & 0 &  0 & Historical Observations & 1857 & 0 &  0 &  38.789 &  15.213 & 299\\\\\n",
       "\t 384010 & Fogo        & 13128 & Confirmed Eruption & Pico                                  & 1 & 1500 & 0 &  0 & Historical Observations & 1761 & 0 &  0 &  14.950 & -24.350 & 261\\\\\n",
       "\t 257100 & Yasur       & 15355 & Confirmed Eruption & NA                                    & 3 & 1774 & 7 &  2 & Historical Observations & 2020 & 4 & 17 & -19.532 & 169.447 & 246\\\\\n",
       "\t 352090 & Sangay      & 11647 & Confirmed Eruption & NA                                    & 3 & 1728 & 9 & 30 & Historical Observations & 1916 & 0 &  0 &  -2.005 & -78.341 & 188\\\\\n",
       "\t 342030 & Santa Maria & 10626 & Confirmed Eruption & SW flank (Santiaguito)                & 3 & 1922 & 6 & 22 & Historical Observations & 2020 & 4 & 17 &  14.757 & -91.552 &  98\\\\\n",
       "\t 268010 & Dukono      & 16577 & Confirmed Eruption & Malupang Magiwe and Malupang Warirang & 3 & 1933 & 8 & 13 & Historical Observations & 2020 & 4 & 17 &   1.693 & 127.894 &  87\\\\\n",
       "\\end{tabular}\n"
      ],
      "text/markdown": [
       "\n",
       "A tibble: 6 × 16\n",
       "\n",
       "| volcano_number &lt;dbl&gt; | volcano_name &lt;chr&gt; | eruption_number &lt;dbl&gt; | eruption_category &lt;chr&gt; | area_of_activity &lt;chr&gt; | vei &lt;dbl&gt; | start_year &lt;dbl&gt; | start_month &lt;dbl&gt; | start_day &lt;dbl&gt; | evidence_method_dating &lt;chr&gt; | end_year &lt;dbl&gt; | end_month &lt;dbl&gt; | end_day &lt;dbl&gt; | latitude &lt;dbl&gt; | longitude &lt;dbl&gt; | span &lt;dbl&gt; |\n",
       "|---|---|---|---|---|---|---|---|---|---|---|---|---|---|---|---|\n",
       "| 211040 | Stromboli   | 13425 | Confirmed Eruption | Summit craters and Sciara del Fuoco   | 3 | 1558 | 0 |  0 | Historical Observations | 1857 | 0 |  0 |  38.789 |  15.213 | 299 |\n",
       "| 384010 | Fogo        | 13128 | Confirmed Eruption | Pico                                  | 1 | 1500 | 0 |  0 | Historical Observations | 1761 | 0 |  0 |  14.950 | -24.350 | 261 |\n",
       "| 257100 | Yasur       | 15355 | Confirmed Eruption | NA                                    | 3 | 1774 | 7 |  2 | Historical Observations | 2020 | 4 | 17 | -19.532 | 169.447 | 246 |\n",
       "| 352090 | Sangay      | 11647 | Confirmed Eruption | NA                                    | 3 | 1728 | 9 | 30 | Historical Observations | 1916 | 0 |  0 |  -2.005 | -78.341 | 188 |\n",
       "| 342030 | Santa Maria | 10626 | Confirmed Eruption | SW flank (Santiaguito)                | 3 | 1922 | 6 | 22 | Historical Observations | 2020 | 4 | 17 |  14.757 | -91.552 |  98 |\n",
       "| 268010 | Dukono      | 16577 | Confirmed Eruption | Malupang Magiwe and Malupang Warirang | 3 | 1933 | 8 | 13 | Historical Observations | 2020 | 4 | 17 |   1.693 | 127.894 |  87 |\n",
       "\n"
      ],
      "text/plain": [
       "  volcano_number volcano_name eruption_number eruption_category \n",
       "1 211040         Stromboli    13425           Confirmed Eruption\n",
       "2 384010         Fogo         13128           Confirmed Eruption\n",
       "3 257100         Yasur        15355           Confirmed Eruption\n",
       "4 352090         Sangay       11647           Confirmed Eruption\n",
       "5 342030         Santa Maria  10626           Confirmed Eruption\n",
       "6 268010         Dukono       16577           Confirmed Eruption\n",
       "  area_of_activity                      vei start_year start_month start_day\n",
       "1 Summit craters and Sciara del Fuoco   3   1558       0            0       \n",
       "2 Pico                                  1   1500       0            0       \n",
       "3 NA                                    3   1774       7            2       \n",
       "4 NA                                    3   1728       9           30       \n",
       "5 SW flank (Santiaguito)                3   1922       6           22       \n",
       "6 Malupang Magiwe and Malupang Warirang 3   1933       8           13       \n",
       "  evidence_method_dating  end_year end_month end_day latitude longitude span\n",
       "1 Historical Observations 1857     0          0       38.789   15.213   299 \n",
       "2 Historical Observations 1761     0          0       14.950  -24.350   261 \n",
       "3 Historical Observations 2020     4         17      -19.532  169.447   246 \n",
       "4 Historical Observations 1916     0          0       -2.005  -78.341   188 \n",
       "5 Historical Observations 2020     4         17       14.757  -91.552    98 \n",
       "6 Historical Observations 2020     4         17        1.693  127.894    87 "
      ]
     },
     "metadata": {},
     "output_type": "display_data"
    },
    {
     "name": "stderr",
     "output_type": "stream",
     "text": [
      "`stat_bin()` using `bins = 30`. Pick better value with `binwidth`.\n",
      "\n"
     ]
    },
    {
     "data": {
      "image/png": "[encoded data removed]",
      "text/plain": [
       "plot without title"
      ]
     },
     "metadata": {
      "image/png": {
       "height": 420,
       "width": 420
      }
     },
     "output_type": "display_data"
    }
   ],
   "source": [
    "eruption_span <- volc %>% \n",
    "    mutate (span = end_year - start_year) %>%\n",
    "    filter (span > 10) %>%\n",
    "    arrange(desc(span))\n",
    "\n",
    "head(eruption_span)\n",
    "\n",
    "#Volcano Stromboli has the longest eruption span at 299 years\n",
    "\n",
    "ggplot(eruption_span, aes(x = span)) + geom_histogram()"
   ]
  },
  {
   "cell_type": "code",
   "execution_count": null,
   "metadata": {},
   "outputs": [],
   "source": []
  }
 ],
 "metadata": {
  "kernelspec": {
   "display_name": "R",
   "language": "R",
   "name": "ir"
  },
  "language_info": {
   "codemirror_mode": "r",
   "file_extension": ".r",
   "mimetype": "text/x-r-source",
   "name": "R",
   "pygments_lexer": "r",
   "version": "4.0.0"
  }
 },
 "nbformat": 4,
 "nbformat_minor": 4
}
